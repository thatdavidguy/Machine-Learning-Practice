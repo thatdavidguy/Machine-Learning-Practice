{
 "cells": [
  {
   "cell_type": "code",
   "execution_count": 2,
   "id": "bdb44b8c",
   "metadata": {},
   "outputs": [],
   "source": [
    "import numpy as np\n",
    "import pandas as pd\n",
    "import math"
   ]
  },
  {
   "cell_type": "code",
   "execution_count": 3,
   "id": "750abcbf",
   "metadata": {},
   "outputs": [],
   "source": [
    "A = [[1,2,-1],[3,5,0],[-2,-1,2]]\n",
    "B = [[10,11,12],[13,14,15],[16,17,18]]\n",
    "C = [[2,3],[4,1]]\n",
    "A = np.array(A)\n",
    "B = np.array(B)\n",
    "C = np.array(C)"
   ]
  },
  {
   "cell_type": "code",
   "execution_count": 4,
   "id": "f0807981",
   "metadata": {},
   "outputs": [
    {
     "name": "stdout",
     "output_type": "stream",
     "text": [
      "1.4142135623730951\n",
      "1.7320508075688772\n"
     ]
    }
   ],
   "source": [
    "VECTOR = [1,1]\n",
    "V = np.array(VECTOR)\n",
    "VECTORRR = [1,1,1]\n",
    "VR = np.array(VECTORRR)\n",
    "\n",
    "magnitude = np.linalg.norm(V)\n",
    "print(magnitude)\n",
    "\n",
    "magnitude = np.linalg.norm(VR)\n",
    "print(magnitude)"
   ]
  },
  {
   "cell_type": "code",
   "execution_count": 5,
   "id": "d1542b9e",
   "metadata": {},
   "outputs": [],
   "source": [
    "# dimensions ->\n",
    "# 3x2 :\n",
    "\"\"\"\n",
    "[ 1 3 ] [ a11 a12 ] \n",
    "[ 2 5 ] [ a21 a22 ] \n",
    "[ 6 7 ] [ a31 a32 ] \n",
    "\"\"\";"
   ]
  },
  {
   "cell_type": "code",
   "execution_count": 6,
   "id": "f16063a2",
   "metadata": {},
   "outputs": [
    {
     "data": {
      "text/plain": [
       "(3, 3)"
      ]
     },
     "execution_count": 6,
     "metadata": {},
     "output_type": "execute_result"
    }
   ],
   "source": [
    "A.shape"
   ]
  },
  {
   "cell_type": "code",
   "execution_count": 7,
   "id": "4024a834",
   "metadata": {},
   "outputs": [
    {
     "name": "stdout",
     "output_type": "stream",
     "text": [
      "-9.000000000000002\n",
      "-9.0\n"
     ]
    }
   ],
   "source": [
    "#Determinant\n",
    "print(np.linalg.det(A))\n",
    "#a11*a22 - (a12*a21) for 2x2\n",
    "\n",
    "#for 3x3\n",
    "\"\"\"\n",
    "LAPLACE EXPANSION\n",
    "det(A) * a 3x3 matrix\n",
    "step 1: select column/row\n",
    "\n",
    "suppose you select first row\n",
    "\n",
    "a11*det[of the 2x2 matrix left if you cover the row and column of a11]\n",
    "meaning -> \n",
    "\n",
    "+ a11*det[[a22,a23],[a32,a33]] \n",
    "- a12*det[[a21,a23],[a31,a33]]\n",
    "+ a13*det[[a21,a22],[a31,a32]]\n",
    "\n",
    "the signs ->\n",
    "[+ - +] [a11 a12 a13]\n",
    "[- + -] [a21 a22 a23]\n",
    "[+ - +] [a31 a32 a33]\n",
    "\n",
    "yuh\n",
    "\"\"\";\n",
    "one = np.array([[A[1,1],A[1,2]],[A[2,1],A[2,2]]])\n",
    "two = np.array([[A[1,0],A[1,2]],[A[2,0],A[2,2]]])\n",
    "three = np.array([[A[1,0],A[1,1]],[A[2,0],A[2,1]]])\n",
    "one = np.linalg.det(one)*A[0,0]\n",
    "two = np.linalg.det(two)*A[0,1]*-1\n",
    "three = np.linalg.det(three)*A[0,2]\n",
    "print(one+two+three)"
   ]
  },
  {
   "cell_type": "code",
   "execution_count": 8,
   "id": "fb5b193e",
   "metadata": {},
   "outputs": [
    {
     "name": "stdout",
     "output_type": "stream",
     "text": [
      "[[ 1  2 -1]\n",
      " [ 3  5  0]\n",
      " [-2 -1  2]]\n",
      "\n",
      "[[ 1  3 -2]\n",
      " [ 2  5 -1]\n",
      " [-1  0  2]]\n",
      "\n",
      "[[ 1  2 -1]\n",
      " [ 3  5  0]\n",
      " [-2 -1  2]]\n"
     ]
    }
   ],
   "source": [
    "print(A)\n",
    "print()\n",
    "print(A.transpose())\n",
    "print()\n",
    "print(A.transpose().transpose())"
   ]
  },
  {
   "cell_type": "code",
   "execution_count": 9,
   "id": "f9cbae9f",
   "metadata": {},
   "outputs": [
    {
     "name": "stdout",
     "output_type": "stream",
     "text": [
      "8\n"
     ]
    }
   ],
   "source": [
    "#trace sums all the diagonals\n",
    "#used to sum the total variance in covariance matrix\n",
    "# tr(A) = tr(A^t)\n",
    "#A^t -> transpose\n",
    "print(np.trace(A))"
   ]
  },
  {
   "cell_type": "code",
   "execution_count": 10,
   "id": "9af67252",
   "metadata": {},
   "outputs": [
    {
     "data": {
      "text/plain": [
       "array([[ 3,  6, -3],\n",
       "       [ 9, 15,  0],\n",
       "       [-6, -3,  6]])"
      ]
     },
     "execution_count": 10,
     "metadata": {},
     "output_type": "execute_result"
    }
   ],
   "source": [
    "3*A\n",
    "#huh this works"
   ]
  },
  {
   "cell_type": "code",
   "execution_count": 11,
   "id": "f5adce40",
   "metadata": {},
   "outputs": [
    {
     "name": "stdout",
     "output_type": "stream",
     "text": [
      "[[  9  13  -3]\n",
      " [ 18  31  -3]\n",
      " [ -9 -11   6]]\n",
      "[[  9  13  -3]\n",
      " [ 18  31  -3]\n",
      " [ -9 -11   6]]\n"
     ]
    }
   ],
   "source": [
    "#hb this\n",
    "print(np.dot(A,A))\n",
    "print(A.dot(A))\n",
    "#whada hell"
   ]
  },
  {
   "cell_type": "code",
   "execution_count": 12,
   "id": "a143312b",
   "metadata": {},
   "outputs": [
    {
     "name": "stdout",
     "output_type": "stream",
     "text": [
      "[[0. 0. 0.]\n",
      " [0. 0. 0.]\n",
      " [0. 0. 0.]]\n",
      "\n",
      "symmetric matrix -> A=A^t\n",
      "\n",
      "Diagonal matrix if all non-diagonal = 0\n",
      "\n",
      "[[1. 0. 0.]\n",
      " [0. 1. 0.]\n",
      " [0. 0. 1.]] written as I3\n",
      "\n",
      "Singular matrix if DET() is 0\n",
      "Nonsingular if DET() is not 0\n",
      "\n",
      "Summing vector VECTOR is a vector which all elements\n",
      "is 1, youre on your own dumbass nuzzles you*\n"
     ]
    }
   ],
   "source": [
    "# special types of matrixes uwu desu daddy onii chan i hate nig\n",
    "print(np.zeros((3,3)))\n",
    "print()\n",
    "print('symmetric matrix -> A=A^t')\n",
    "print()\n",
    "print('Diagonal matrix if all non-diagonal = 0')\n",
    "print()\n",
    "print(np.identity(3),\"written as I3\")\n",
    "print()\n",
    "print(\"Singular matrix if DET() is 0\")\n",
    "print(\"Nonsingular if DET() is not 0\")\n",
    "print()\n",
    "print(\"Summing vector VECTOR is a vector which all elements\")\n",
    "print(\"is 1, youre on your own dumbass nuzzles you*\")"
   ]
  },
  {
   "cell_type": "code",
   "execution_count": 13,
   "id": "83f0d839",
   "metadata": {},
   "outputs": [
    {
     "name": "stdout",
     "output_type": "stream",
     "text": [
      "[[-0.1  0.3]\n",
      " [ 0.4 -0.2]]\n",
      "[[-0.1  0.3]\n",
      " [ 0.4 -0.2]]\n"
     ]
    }
   ],
   "source": [
    "#INVERSE AAAAHHAHAHAHHAHAHHA \n",
    "inverse = np.linalg.inv(C)\n",
    "print(inverse)\n",
    "\n",
    "\"\"\"\n",
    "A^-1 =\n",
    "\n",
    "  1       [a22  -a12] \n",
    "-----   *\n",
    "Det(A)    [-a21  a11]\n",
    "\"\"\";\n",
    "lis = [[int(C[1,1]),-int(C[0,1])],[-int(C[1,0]),int(C[0,0])]]\n",
    "spec = np.array(lis)\n",
    "print((1/np.linalg.det(C))*(spec))"
   ]
  },
  {
   "cell_type": "code",
   "execution_count": 43,
   "id": "218a848c",
   "metadata": {},
   "outputs": [
    {
     "data": {
      "text/plain": [
       "array([[-0.15384615,  0.23076923],\n",
       "       [ 0.53846154, -0.30769231]])"
      ]
     },
     "execution_count": 43,
     "metadata": {},
     "output_type": "execute_result"
    }
   ],
   "source": [
    "d = np.array([[4,3],[7,2]])\n",
    "np.linalg.inv(d)"
   ]
  },
  {
   "cell_type": "code",
   "execution_count": 47,
   "id": "842e7e70",
   "metadata": {},
   "outputs": [
    {
     "data": {
      "text/plain": [
       "4.000000030000001"
      ]
     },
     "execution_count": 47,
     "metadata": {},
     "output_type": "execute_result"
    }
   ],
   "source": [
    "-0.30769231 * -13"
   ]
  },
  {
   "cell_type": "code",
   "execution_count": 14,
   "id": "9f0e8989",
   "metadata": {},
   "outputs": [
    {
     "name": "stdout",
     "output_type": "stream",
     "text": [
      "linear system unique if one solution\n",
      "infinitely many solution\n",
      "or no solution\n",
      "\n",
      "if A is a square matrix\n",
      "if it is nonsingular -> unique soltuion det() is not 0\n",
      "else infinite or no solution\n",
      "\n",
      "homogeneous if Ax = 0, all constant is 0\n",
      "in homogenuos solution either unique or inifite\n",
      "\n",
      "consistent if one solution or infinitely\n",
      "inconsistent if no solution\n",
      "\n",
      "trivial solution if all the x = 0\n"
     ]
    }
   ],
   "source": [
    "print(\"linear system unique if one solution\")\n",
    "print(\"infinitely many solution\")\n",
    "print(\"or no solution\")\n",
    "print()\n",
    "print(\"if A is a square matrix\")\n",
    "print(\"if it is nonsingular -> unique soltuion det() is not 0\")\n",
    "print(\"else infinite or no solution\")\n",
    "print()\n",
    "print(\"homogeneous if Ax = 0, all constant is 0\")\n",
    "print(\"in homogenuos solution either unique or inifite\")\n",
    "print()\n",
    "print(\"consistent if one solution or infinitely\")\n",
    "print(\"inconsistent if no solution\")\n",
    "print()\n",
    "print(\"trivial solution if all the x = 0\")"
   ]
  },
  {
   "cell_type": "code",
   "execution_count": 106,
   "id": "4b6ef064",
   "metadata": {},
   "outputs": [
    {
     "name": "stdout",
     "output_type": "stream",
     "text": [
      "Enter number of unknowns: 3\n",
      "Enter Augmented Matrix Coefficients:\n",
      "a[0][0]=0\n",
      "a[0][1]=-1\n",
      "a[0][2]=1\n",
      "a[0][3]=0\n",
      "a[1][0]=3\n",
      "a[1][1]=-4\n",
      "a[1][2]=1\n",
      "a[1][3]=0\n",
      "a[2][0]=3\n",
      "a[2][1]=-5\n",
      "a[2][2]=2\n",
      "a[2][3]=0\n"
     ]
    },
    {
     "ename": "SystemExit",
     "evalue": "Divide by zero detected!",
     "output_type": "error",
     "traceback": [
      "An exception has occurred, use %tb to see the full traceback.\n",
      "\u001b[1;31mSystemExit\u001b[0m\u001b[1;31m:\u001b[0m Divide by zero detected!\n"
     ]
    },
    {
     "name": "stderr",
     "output_type": "stream",
     "text": [
      "C:\\Users\\sorki\\anaconda3\\lib\\site-packages\\IPython\\core\\interactiveshell.py:3465: UserWarning: To exit: use 'exit', 'quit', or Ctrl-D.\n",
      "  warn(\"To exit: use 'exit', 'quit', or Ctrl-D.\", stacklevel=1)\n"
     ]
    }
   ],
   "source": [
    "#ELEMENTARY ROW OPERATIONS\n",
    "\"\"\"\n",
    "swap rows\n",
    "multiply row by constant\n",
    "add other row * any constant to current row\n",
    "do this to achieve ROW ECHELOn fAG\n",
    "hAaaAh\n",
    "\n",
    "if divide by 0 error may mean infinite sol /  is 0?\n",
    "\"\"\";\n",
    "import numpy as np\n",
    "import sys\n",
    " \n",
    "n = int(input('Enter number of unknowns: '))\n",
    "a = np.zeros((n,n+1))\n",
    "x = np.zeros(n)\n",
    "print('Enter Augmented Matrix Coefficients:')\n",
    "for i in range(n):\n",
    "    for j in range(n+1):\n",
    "        a[i][j] = float(input( 'a['+str(i)+']['+ str(j)+']='))\n",
    "for i in range(n):\n",
    "    if a[i][i] == 0.0:\n",
    "        sys.exit('Divide by zero detected!')\n",
    "         \n",
    "    for j in range(i+1, n):\n",
    "        ratio = a[j][i]/a[i][i]\n",
    "         \n",
    "        for k in range(n+1):\n",
    "            a[j][k] = a[j][k] - ratio * a[i][k]\n",
    " \n",
    "\n",
    "x[n-1] = a[n-1][n]/a[n-1][n-1]\n",
    "\n",
    "for i in range(n-2,-1,-1):\n",
    "    x[i] = a[i][n]\n",
    "     \n",
    "    for j in range(i+1,n):\n",
    "        x[i] = x[i] - a[i][j]*x[j]\n",
    "     \n",
    "    x[i] = x[i]/a[i][i]\n",
    " \n",
    "print('\\nThe solution is: ')\n",
    "for i in range(n):\n",
    "    print('X%d = %0.2f' %(i,x[i]), end = '\\t')"
   ]
  },
  {
   "cell_type": "code",
   "execution_count": 88,
   "id": "69ffa9b9",
   "metadata": {},
   "outputs": [
    {
     "name": "stdout",
     "output_type": "stream",
     "text": [
      "(4, 2)\n"
     ]
    },
    {
     "data": {
      "text/html": [
       "<div>\n",
       "<style scoped>\n",
       "    .dataframe tbody tr th:only-of-type {\n",
       "        vertical-align: middle;\n",
       "    }\n",
       "\n",
       "    .dataframe tbody tr th {\n",
       "        vertical-align: top;\n",
       "    }\n",
       "\n",
       "    .dataframe thead th {\n",
       "        text-align: right;\n",
       "    }\n",
       "</style>\n",
       "<table border=\"1\" class=\"dataframe\">\n",
       "  <thead>\n",
       "    <tr style=\"text-align: right;\">\n",
       "      <th></th>\n",
       "      <th>Math</th>\n",
       "      <th>Science</th>\n",
       "    </tr>\n",
       "  </thead>\n",
       "  <tbody>\n",
       "    <tr>\n",
       "      <th>count</th>\n",
       "      <td>4.000000</td>\n",
       "      <td>4.000000</td>\n",
       "    </tr>\n",
       "    <tr>\n",
       "      <th>mean</th>\n",
       "      <td>16.000000</td>\n",
       "      <td>17.500000</td>\n",
       "    </tr>\n",
       "    <tr>\n",
       "      <th>std</th>\n",
       "      <td>3.651484</td>\n",
       "      <td>1.914854</td>\n",
       "    </tr>\n",
       "    <tr>\n",
       "      <th>min</th>\n",
       "      <td>12.000000</td>\n",
       "      <td>16.000000</td>\n",
       "    </tr>\n",
       "    <tr>\n",
       "      <th>25%</th>\n",
       "      <td>13.500000</td>\n",
       "      <td>16.000000</td>\n",
       "    </tr>\n",
       "    <tr>\n",
       "      <th>50%</th>\n",
       "      <td>16.000000</td>\n",
       "      <td>17.000000</td>\n",
       "    </tr>\n",
       "    <tr>\n",
       "      <th>75%</th>\n",
       "      <td>18.500000</td>\n",
       "      <td>18.500000</td>\n",
       "    </tr>\n",
       "    <tr>\n",
       "      <th>max</th>\n",
       "      <td>20.000000</td>\n",
       "      <td>20.000000</td>\n",
       "    </tr>\n",
       "  </tbody>\n",
       "</table>\n",
       "</div>"
      ],
      "text/plain": [
       "            Math    Science\n",
       "count   4.000000   4.000000\n",
       "mean   16.000000  17.500000\n",
       "std     3.651484   1.914854\n",
       "min    12.000000  16.000000\n",
       "25%    13.500000  16.000000\n",
       "50%    16.000000  17.000000\n",
       "75%    18.500000  18.500000\n",
       "max    20.000000  20.000000"
      ]
     },
     "execution_count": 88,
     "metadata": {},
     "output_type": "execute_result"
    }
   ],
   "source": [
    "my_array = np.array([[12,16],[18,20],[14,16],[20,18]])\n",
    "print(my_array.shape)\n",
    "df = pd.DataFrame(my_array,columns=[\"Math\",\"Science\"])\n",
    "df.describe()"
   ]
  },
  {
   "cell_type": "code",
   "execution_count": 89,
   "id": "2536a49b",
   "metadata": {},
   "outputs": [
    {
     "name": "stdout",
     "output_type": "stream",
     "text": [
      "Math       16.0\n",
      "Science    17.5\n",
      "dtype: float64\n",
      "\n",
      "0    14.0\n",
      "1    19.0\n",
      "2    15.0\n",
      "3    19.0\n",
      "dtype: float64\n"
     ]
    }
   ],
   "source": [
    "print(df.mean(axis=0))#average for each column\n",
    "print()\n",
    "print(df.mean(axis=1))#average for each row"
   ]
  },
  {
   "cell_type": "code",
   "execution_count": 90,
   "id": "9537d27e",
   "metadata": {},
   "outputs": [
    {
     "name": "stdout",
     "output_type": "stream",
     "text": [
      "[16.  17.5]\n"
     ]
    }
   ],
   "source": [
    "#thier definition of mean for cokumn\n",
    "print((1/4)*np.dot(my_array.transpose(),np.array([1,1,1,1])))\n",
    "#n=4, 1n = [1,1,1,1]"
   ]
  },
  {
   "cell_type": "code",
   "execution_count": 91,
   "id": "681961bf",
   "metadata": {},
   "outputs": [
    {
     "data": {
      "text/html": [
       "<div>\n",
       "<style scoped>\n",
       "    .dataframe tbody tr th:only-of-type {\n",
       "        vertical-align: middle;\n",
       "    }\n",
       "\n",
       "    .dataframe tbody tr th {\n",
       "        vertical-align: top;\n",
       "    }\n",
       "\n",
       "    .dataframe thead th {\n",
       "        text-align: right;\n",
       "    }\n",
       "</style>\n",
       "<table border=\"1\" class=\"dataframe\">\n",
       "  <thead>\n",
       "    <tr style=\"text-align: right;\">\n",
       "      <th></th>\n",
       "      <th>Math</th>\n",
       "      <th>Science</th>\n",
       "    </tr>\n",
       "  </thead>\n",
       "  <tbody>\n",
       "    <tr>\n",
       "      <th>Math</th>\n",
       "      <td>13.333333</td>\n",
       "      <td>5.333333</td>\n",
       "    </tr>\n",
       "    <tr>\n",
       "      <th>Science</th>\n",
       "      <td>5.333333</td>\n",
       "      <td>3.666667</td>\n",
       "    </tr>\n",
       "  </tbody>\n",
       "</table>\n",
       "</div>"
      ],
      "text/plain": [
       "              Math   Science\n",
       "Math     13.333333  5.333333\n",
       "Science   5.333333  3.666667"
      ]
     },
     "execution_count": 91,
     "metadata": {},
     "output_type": "execute_result"
    }
   ],
   "source": [
    "df.cov()"
   ]
  },
  {
   "cell_type": "code",
   "execution_count": 92,
   "id": "147a741a",
   "metadata": {},
   "outputs": [
    {
     "name": "stdout",
     "output_type": "stream",
     "text": [
      "[[12 16]\n",
      " [18 20]\n",
      " [14 16]\n",
      " [20 18]]\n",
      "\n",
      "[16.  17.5]\n",
      "\n",
      "[[-4.  -1.5]\n",
      " [ 2.   2.5]\n",
      " [-2.  -1.5]\n",
      " [ 4.   0.5]]\n",
      "[[13.33333333  5.33333333]\n",
      " [ 5.33333333  3.66666667]]\n"
     ]
    }
   ],
   "source": [
    "#cov for numpy\n",
    "mean = (1/4)*np.dot(my_array.transpose(),np.array([1,1,1,1]))\n",
    "coef = 1/(4-1) #n=4\n",
    "print(my_array)\n",
    "print()\n",
    "print(np.array([1,1])*mean.transpose())\n",
    "print()\n",
    "print(my_array-np.array([1,1])*mean.transpose())\n",
    "part1 = (my_array-(np.array([1,1])*mean.transpose())).transpose()\n",
    "part2 = (my_array-(np.array([1,1])*mean.transpose()))\n",
    "cov = part1.dot(part2)*coef\n",
    "print(cov)\n",
    "#n=4, 1n= [1,1] for the mean \n"
   ]
  },
  {
   "cell_type": "code",
   "execution_count": 96,
   "id": "39733ffc",
   "metadata": {},
   "outputs": [
    {
     "name": "stdout",
     "output_type": "stream",
     "text": [
      "[[10 11 15]\n",
      " [40 45 53]]\n",
      "\n",
      "[16.66666667 18.66666667 22.66666667]\n",
      "\n",
      "[[-6.66666667 -7.66666667 -7.66666667]\n",
      " [23.33333333 26.33333333 30.33333333]]\n",
      "0.5\n",
      "[[294.44444444 332.77777778 379.44444444]\n",
      " [332.77777778 376.11111111 428.77777778]\n",
      " [379.44444444 428.77777778 489.44444444]]\n"
     ]
    }
   ],
   "source": [
    "my_array = np.array([[10,11,15],[40,45,53]])\n",
    "mean = (1/3)*np.dot(my_array.transpose(),np.array([1,1]))\n",
    "coef = 1/(3-1) #n=4\n",
    "print(my_array)\n",
    "print()\n",
    "print(np.array([1,1,1])*mean.transpose())\n",
    "print()\n",
    "print((my_array-(np.array([1,1,1])*mean.transpose())))\n",
    "print(coef)\n",
    "part1 = (my_array-(np.array([1,1,1])*mean.transpose())).transpose()\n",
    "part2 = (my_array-(np.array([1,1,1])*mean.transpose()))\n",
    "cov = part1.dot(part2)*coef\n",
    "print(cov)"
   ]
  },
  {
   "cell_type": "code",
   "execution_count": 80,
   "id": "a637cb30",
   "metadata": {},
   "outputs": [
    {
     "name": "stdout",
     "output_type": "stream",
     "text": [
      "[[294.44444444 332.77777778 379.44444444]\n",
      " [332.77777778 376.11111111 428.77777778]\n",
      " [379.44444444 428.77777778 489.44444444]]\n"
     ]
    }
   ],
   "source": [
    "ppp=(my_array-np.array([1,1,1])*mean.transpose())*3\n",
    "print(ppp.transpose().dot(ppp)*(1/(6*3)))"
   ]
  },
  {
   "cell_type": "code",
   "execution_count": 97,
   "id": "ab8ad5ed",
   "metadata": {},
   "outputs": [
    {
     "name": "stdout",
     "output_type": "stream",
     "text": [
      "[[10 11 15]\n",
      " [40 45 53]]\n"
     ]
    }
   ],
   "source": [
    "print(my_array)\n",
    "df = pd.DataFrame(my_array)\n",
    "cov = np.array(df.cov())"
   ]
  },
  {
   "cell_type": "code",
   "execution_count": 21,
   "id": "2adb4db1",
   "metadata": {},
   "outputs": [
    {
     "name": "stdout",
     "output_type": "stream",
     "text": [
      "generalized sample variance 20.444444444444446\n",
      "total sample variance 17.0\n"
     ]
    }
   ],
   "source": [
    "#det of cov -> generalized sample variance\n",
    "#total sample is trace of cov\n",
    "print(\"generalized sample variance\",np.linalg.det(cov))\n",
    "print(\"total sample variance\",np.trace(cov))"
   ]
  },
  {
   "cell_type": "code",
   "execution_count": 22,
   "id": "867cb86f",
   "metadata": {},
   "outputs": [
    {
     "data": {
      "text/html": [
       "<div>\n",
       "<style scoped>\n",
       "    .dataframe tbody tr th:only-of-type {\n",
       "        vertical-align: middle;\n",
       "    }\n",
       "\n",
       "    .dataframe tbody tr th {\n",
       "        vertical-align: top;\n",
       "    }\n",
       "\n",
       "    .dataframe thead th {\n",
       "        text-align: right;\n",
       "    }\n",
       "</style>\n",
       "<table border=\"1\" class=\"dataframe\">\n",
       "  <thead>\n",
       "    <tr style=\"text-align: right;\">\n",
       "      <th></th>\n",
       "      <th>Math</th>\n",
       "      <th>Science</th>\n",
       "    </tr>\n",
       "  </thead>\n",
       "  <tbody>\n",
       "    <tr>\n",
       "      <th>Math</th>\n",
       "      <td>1.00000</td>\n",
       "      <td>0.76277</td>\n",
       "    </tr>\n",
       "    <tr>\n",
       "      <th>Science</th>\n",
       "      <td>0.76277</td>\n",
       "      <td>1.00000</td>\n",
       "    </tr>\n",
       "  </tbody>\n",
       "</table>\n",
       "</div>"
      ],
      "text/plain": [
       "            Math  Science\n",
       "Math     1.00000  0.76277\n",
       "Science  0.76277  1.00000"
      ]
     },
     "execution_count": 22,
     "metadata": {},
     "output_type": "execute_result"
    }
   ],
   "source": [
    "#corr -> cov()/sd(x),sd(y)\n",
    "df.corr()"
   ]
  },
  {
   "cell_type": "code",
   "execution_count": 98,
   "id": "3ac48a40",
   "metadata": {},
   "outputs": [
    {
     "name": "stdout",
     "output_type": "stream",
     "text": [
      "[[450. 510. 570.]\n",
      " [510. 578. 646.]\n",
      " [570. 646. 722.]]\n",
      "\n",
      "[[450.   0.   0.]\n",
      " [  0. 578.   0.]\n",
      " [  0.   0. 722.]]\n",
      "\n",
      "[[21.21320344  0.          0.        ]\n",
      " [ 0.         24.04163056  0.        ]\n",
      " [ 0.          0.         26.87005769]]\n",
      "\n",
      "[[0.04714045 0.         0.        ]\n",
      " [0.         0.04159452 0.        ]\n",
      " [0.         0.         0.03721615]]\n"
     ]
    }
   ],
   "source": [
    "print(cov)\n",
    "print()\n",
    "S = np.sqrt(np.diag(np.diag(cov)))\n",
    "#take the diagonals of covariance and sqrt it (to get std)\n",
    "print(np.diag(np.diag(cov)))\n",
    "print()\n",
    "print(S)\n",
    "print()\n",
    "Sin = np.linalg.inv(S)\n",
    "print(Sin)\n",
    "#inverse that shit"
   ]
  },
  {
   "cell_type": "code",
   "execution_count": 103,
   "id": "c0c12471",
   "metadata": {},
   "outputs": [
    {
     "name": "stdout",
     "output_type": "stream",
     "text": [
      "[[10 11 15]\n",
      " [40 45 53]]\n",
      "[[10 40]\n",
      " [11 45]\n",
      " [15 53]]\n",
      "[[1.         0.97986371]\n",
      " [0.97986371 1.        ]]\n"
     ]
    }
   ],
   "source": [
    "print(my_array)\n",
    "y = np.array(my_array).transpose()\n",
    "print(y)\n",
    "df = pd.DataFrame(y)\n",
    "cov = np.array(df.cov())\n",
    "S = np.sqrt(np.diag(np.diag(cov)))\n",
    "#take the diagonals of covariance and sqrt it (to get std)\n",
    "Sin = np.linalg.inv(S)\n",
    "corr = Sin.dot(cov.dot(Sin))\n",
    "#inverse * cov * inverse\n",
    "print(corr)"
   ]
  },
  {
   "cell_type": "code",
   "execution_count": 25,
   "id": "5a1aa645",
   "metadata": {},
   "outputs": [],
   "source": [
    "# Covariance show the direction of relationship and\n",
    "#how strong dat shit be\n",
    "#correlation show dat how closely intertwined that shit be\n",
    "#ye"
   ]
  },
  {
   "cell_type": "code",
   "execution_count": 107,
   "id": "1638d69c",
   "metadata": {},
   "outputs": [
    {
     "data": {
      "text/plain": [
       "(array([-2.,  1.,  2.]),\n",
       " array([[ 0.        , -0.57735027,  0.40824829],\n",
       "        [-0.70710678, -0.57735027,  0.40824829],\n",
       "        [-0.70710678, -0.57735027,  0.81649658]]))"
      ]
     },
     "execution_count": 107,
     "metadata": {},
     "output_type": "execute_result"
    }
   ],
   "source": [
    "y = np.array([[1,-1,1],[3,-3,1],[3,-5,3]])\n",
    "np.linalg.eig(y)"
   ]
  },
  {
   "cell_type": "code",
   "execution_count": 26,
   "id": "9a6b9ba7",
   "metadata": {},
   "outputs": [
    {
     "data": {
      "text/plain": [
       "array([[ 6, 11],\n",
       "       [ 5, -6],\n",
       "       [13,  4]])"
      ]
     },
     "execution_count": 26,
     "metadata": {},
     "output_type": "execute_result"
    }
   ],
   "source": [
    "#linear transformations\n",
    "data = np.array([[4,1],[-1,3],[3,5]]) #3x2\n",
    "transy1 = np.array([[1,2],[1,2],[1,2]]) #2x2\n",
    "transy2 = np.array([[3,-1],[3,-1],[3,-1]]) #2x2\n",
    "y1 = data*transy1\n",
    "y2 = data*transy2\n",
    "y1 = y1.dot(np.array([[1],[1]]))\n",
    "y2 = y2.dot(np.array([[1],[1]]))\n",
    "np.concatenate((y1,y2), axis=1)"
   ]
  },
  {
   "cell_type": "code",
   "execution_count": 27,
   "id": "b6230e86",
   "metadata": {},
   "outputs": [],
   "source": [
    "#eins dwei"
   ]
  },
  {
   "cell_type": "code",
   "execution_count": 28,
   "id": "ed63a40b",
   "metadata": {},
   "outputs": [],
   "source": [
    "# eigenvectors / values\n",
    "#Av = lambda*v\n",
    "#normalize eigenvectors\n",
    "#eigendecomposition -> diagonalization theorem"
   ]
  },
  {
   "cell_type": "code",
   "execution_count": 29,
   "id": "344eaea5",
   "metadata": {},
   "outputs": [
    {
     "name": "stdout",
     "output_type": "stream",
     "text": [
      "[[1.  1. ]\n",
      " [0.5 1.5]]\n",
      "Eigenvalues are:  [0.5 2. ]\n",
      "Eigenvectors are:  [[-0.89442719 -0.70710678]\n",
      " [ 0.4472136  -0.70710678]]\n"
     ]
    }
   ],
   "source": [
    "A = np.array([[1,1],[0.5,1.5]])\n",
    "print(A)\n",
    "eigvals, eigvecs = np.linalg.eig(A)\n",
    "print(\"Eigenvalues are: \",eigvals)\n",
    "print(\"Eigenvectors are: \",eigvecs)\n",
    "\n",
    "#lambda = 0.5\n",
    "#-0.8844\n",
    "#0.4472\n",
    "\n",
    "#lambda = 2\n",
    "#-0.7071\n",
    "#-0.7071\n"
   ]
  },
  {
   "cell_type": "code",
   "execution_count": 30,
   "id": "2d239a07",
   "metadata": {},
   "outputs": [
    {
     "name": "stdout",
     "output_type": "stream",
     "text": [
      "[1.14017543 0.83666003]\n",
      "1.1401754250991378\n"
     ]
    }
   ],
   "source": [
    "#normalize dat shiii:\n",
    "#whole number it works fine but small numbers not exactly\n",
    "np.linalg.norm(np.float16([1000]))\n",
    "print(np.linalg.norm(eigvecs,axis=1))\n",
    "ye = np.array([eigvecs[0,0],eigvecs[0,1]])\n",
    "print(np.linalg.norm(ye))"
   ]
  },
  {
   "cell_type": "code",
   "execution_count": 31,
   "id": "8e5c818d",
   "metadata": {},
   "outputs": [
    {
     "data": {
      "text/plain": [
       "1.1401754250991378"
      ]
     },
     "execution_count": 31,
     "metadata": {},
     "output_type": "execute_result"
    }
   ],
   "source": [
    "def magnitude(vector): \n",
    "    return math.sqrt(sum(pow(element, 2) for element in vector))\n",
    "magnitude(ye)"
   ]
  },
  {
   "cell_type": "code",
   "execution_count": 32,
   "id": "44aac342",
   "metadata": {},
   "outputs": [
    {
     "name": "stdout",
     "output_type": "stream",
     "text": [
      "[-0.89442719 -0.70710678]\n",
      "1.1401754250991378\n",
      "[-0.78446454 -0.62017367]\n"
     ]
    }
   ],
   "source": [
    "# To normalise a vector\n",
    "print(ye)\n",
    "print(math.sqrt(np.sum(np.power(ye,2))))\n",
    "print(ye/(math.sqrt(np.sum(np.power(ye,2)))))"
   ]
  },
  {
   "cell_type": "code",
   "execution_count": 33,
   "id": "eba2738d",
   "metadata": {},
   "outputs": [
    {
     "name": "stdout",
     "output_type": "stream",
     "text": [
      "[ 4 -9]\n",
      "9.848857801796104\n",
      "[ 0.40613847 -0.91381155]\n"
     ]
    }
   ],
   "source": [
    "##TEST\n",
    "ye = np.array([4,-9])\n",
    "print(ye)\n",
    "print(math.sqrt(np.sum(np.power(ye,2))))\n",
    "print(ye/(math.sqrt(np.sum(np.power(ye,2)))))"
   ]
  },
  {
   "cell_type": "code",
   "execution_count": 34,
   "id": "fbfd1a56",
   "metadata": {},
   "outputs": [],
   "source": [
    "##Linear dependence thing?\n",
    "#A(cv) = c(Av) = c(lambda*v) = lambda*(cv)\n",
    "\"\"\"\n",
    "Put another way, if v is an eigenvector of A, then 1/2 v\n",
    ", 0.123v , 100v, ..., etc, are also eigenvectors\n",
    "of A corresponding to the same eigenvalue. So there are infinitely many eigenvectors\n",
    "corresponding to lamdbda\n",
    "\"\"\";"
   ]
  },
  {
   "cell_type": "code",
   "execution_count": 35,
   "id": "aba51e1c",
   "metadata": {},
   "outputs": [],
   "source": [
    "#manually calculate eigenvalue/vector\n",
    "#(A-lambda*I)*v = 0\n",
    "#det(A-lambda*I) = 0 called characteristic polynomial\n",
    "#subsitute :) to find yo stuff\n",
    "\n",
    "#e.g. given A and lambda\n",
    "# Av = lambda*v\n",
    "# [[1,-2],[3,-4]]*v = -1*v\n",
    "# [[1,-2],[3,-4]]*[x1,x2] (augmented matrix) = -1*[x1,x2]\n",
    "# x1 - 2x2  = -x1\n",
    "# 3x1 - 4x2 = -x2\n",
    "\n",
    "#2x1-2x2 = 0\n",
    "#3x1-3x2 = 0\n",
    "\n",
    "#linear independence if\n",
    "#a0v0 + a1v1 + a2v2 = 0 then v0,v1,v2 are linearly independent\n",
    "#lineraly dependent if these coefficients (a) are = 0\n",
    "\n",
    "#linear decomposition:\n",
    "#get the eigenvector matrix -> V\n",
    "#get the matrix of eigenvalues in an identity (capital lambda)\n",
    "\"\"\"\n",
    "[lambda1   0 ]\n",
    "[0    lambda2]\n",
    "\"\"\";\n",
    "#get the inverse of the eigenvector matrix V^-1\n",
    "#A = V*(captial lambda)*V^-1\n",
    "# to calculate A^p = V*(capital lambda)^p*V^-1"
   ]
  },
  {
   "cell_type": "code",
   "execution_count": 36,
   "id": "e2b8a3c2",
   "metadata": {},
   "outputs": [
    {
     "name": "stdout",
     "output_type": "stream",
     "text": [
      "[[1.  1. ]\n",
      " [0.5 1.5]]\n",
      "Eigenvalues are:  [0.5 2. ]\n",
      "Eigenvectors are:  [[-0.89442719 -0.70710678]\n",
      " [ 0.4472136  -0.70710678]]\n"
     ]
    }
   ],
   "source": [
    "A = np.array([[1,1],[0.5,1.5]])\n",
    "print(A)\n",
    "eigvals, eigvecs = np.linalg.eig(A)\n",
    "print(\"Eigenvalues are: \",eigvals)\n",
    "print(\"Eigenvectors are: \",eigvecs)"
   ]
  },
  {
   "cell_type": "code",
   "execution_count": 37,
   "id": "b1e0c28c",
   "metadata": {},
   "outputs": [
    {
     "data": {
      "text/plain": [
       "array([[0.5, 0. ],\n",
       "       [0. , 2. ]])"
      ]
     },
     "execution_count": 37,
     "metadata": {},
     "output_type": "execute_result"
    }
   ],
   "source": [
    "g = np.array([[eigvals[0],0],[0,eigvals[1]]])\n",
    "g"
   ]
  },
  {
   "cell_type": "code",
   "execution_count": 40,
   "id": "e8ec72a6",
   "metadata": {},
   "outputs": [
    {
     "data": {
      "text/plain": [
       "array([[1., 0.],\n",
       "       [0., 1.]])"
      ]
     },
     "execution_count": 40,
     "metadata": {},
     "output_type": "execute_result"
    }
   ],
   "source": [
    "Ainv = np.linalg.inv(A)\n",
    "Ainv"
   ]
  },
  {
   "cell_type": "code",
   "execution_count": 39,
   "id": "18e3f02e",
   "metadata": {},
   "outputs": [
    {
     "data": {
      "text/plain": [
       "array([[-0.25 ,  1.5  ],\n",
       "       [-1.125,  2.75 ]])"
      ]
     },
     "execution_count": 39,
     "metadata": {},
     "output_type": "execute_result"
    }
   ],
   "source": [
    "Lindecomp = A.dot(g.dot(Ainv))\n",
    "Lindecomp"
   ]
  },
  {
   "cell_type": "code",
   "execution_count": 41,
   "id": "88f8fde0",
   "metadata": {},
   "outputs": [
    {
     "data": {
      "text/plain": [
       "4"
      ]
     },
     "execution_count": 41,
     "metadata": {},
     "output_type": "execute_result"
    }
   ],
   "source": [
    "2*2"
   ]
  },
  {
   "cell_type": "code",
   "execution_count": 1,
   "id": "13ace464",
   "metadata": {},
   "outputs": [
    {
     "name": "stdout",
     "output_type": "stream",
     "text": [
      "nigga\n"
     ]
    }
   ],
   "source": []
  },
  {
   "cell_type": "code",
   "execution_count": null,
   "id": "03a1a436",
   "metadata": {},
   "outputs": [],
   "source": []
  }
 ],
 "metadata": {
  "kernelspec": {
   "display_name": "Python 3 (ipykernel)",
   "language": "python",
   "name": "python3"
  },
  "language_info": {
   "codemirror_mode": {
    "name": "ipython",
    "version": 3
   },
   "file_extension": ".py",
   "mimetype": "text/x-python",
   "name": "python",
   "nbconvert_exporter": "python",
   "pygments_lexer": "ipython3",
   "version": "3.8.8"
  }
 },
 "nbformat": 4,
 "nbformat_minor": 5
}
